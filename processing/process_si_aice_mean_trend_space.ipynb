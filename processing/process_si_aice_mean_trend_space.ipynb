{
 "cells": [
  {
   "cell_type": "code",
   "execution_count": 2,
   "metadata": {},
   "outputs": [
    {
     "data": {
      "text/plain": [
       "<xarray.core.options.set_options at 0x2af30f0c5ac0>"
      ]
     },
     "execution_count": 2,
     "metadata": {},
     "output_type": "execute_result"
    }
   ],
   "source": [
    "import numpy as np\n",
    "import matplotlib\n",
    "import matplotlib.pyplot as plt\n",
    "import xarray as xr\n",
    "import os\n",
    "import scipy.stats\n",
    "import sys\n",
    "import pandas as pd\n",
    "sys.path.insert(1, '/glade/u/home/lettier/analysis/')\n",
    "import master_utils as myf\n",
    "xr.set_options(keep_attrs=True)"
   ]
  },
  {
   "cell_type": "code",
   "execution_count": 3,
   "metadata": {},
   "outputs": [],
   "source": [
    "mytime = pd.date_range(start=\"1979-01-01\",end=\"2018-12-31\", freq='M')\n",
    "mydir = '/glade/work/lettier/NUDGE/'\n",
    "eddir = '/glade/scratch/wriggles/archive/'"
   ]
  },
  {
   "cell_type": "code",
   "execution_count": 4,
   "metadata": {},
   "outputs": [],
   "source": [
    "def wrangle_nudge (nudge_name, myvariables):\n",
    "\n",
    "    ds_a = xr.open_mfdataset(eddir+nudge_name+'/ice/hist/*.h.*')[myvariables]\n",
    "    ds_b = xr.open_mfdataset(eddir+nudge_name+'_21C/ice/hist/*.h.*')[myvariables]\n",
    "    ds = xr.concat([ds_a,ds_b],dim='time')\n",
    "    ds['time'] = mytime\n",
    " \n",
    "    ds['names'] = nudge_name\n",
    "    ds = ds.set_coords('names')\n",
    "    \n",
    "    return ds"
   ]
  },
  {
   "cell_type": "code",
   "execution_count": 5,
   "metadata": {},
   "outputs": [],
   "source": [
    "def wrangle_lens (e, myvariables):\n",
    "    ledir = '/glade/collections/cdg/data/cesmLE/CESM-CAM5-BGC-LE/ice/proc/tseries/monthly/'\n",
    "\n",
    "    ens = str(e)\n",
    "    if e<10:\n",
    "        ens = '0'+str(e)\n",
    "    tmp = []\n",
    "    print(ens)\n",
    "    for var in myvariables:\n",
    "        myfiles = sorted([ledir+var+'/'+f for f in os.listdir(ledir+var) if ('B20TRC5CNBDRD' in f or 'BRCP85C5CNBDRD' in f) and '0'+ens+'.cice.h.'+var+'_nh' in f ])\n",
    "        myfiles = [f for f in myfiles if '.192001-199912.nc' not in f and '208101-210012.nc' not in f]\n",
    "        ds = xr.open_mfdataset(myfiles)[[var]].sel(time=slice('1979-02','2019-01'))\n",
    "        ds['time'] = mytime\n",
    "        tmp.append(ds)\n",
    "    ds = xr.merge(tmp)\n",
    "    ds['names'] = 'LENS'+ens+'_nh'\n",
    "    ds = ds.set_coords('names')\n",
    "      \n",
    "    return ds"
   ]
  },
  {
   "cell_type": "code",
   "execution_count": 40,
   "metadata": {},
   "outputs": [],
   "source": [
    "def get_spatial_stuff_aice (ds):\n",
    "    da = ds['aice']\n",
    "    name = str(ds.names.values)\n",
    "    aice = myf.xr_reshape(da, 'time', ['year', 'month'], [np.arange(1979, 2019,1), np.arange(1,13,1)])\n",
    "    aice = aice.sel(month=[3,6,9])\n",
    "    clim = aice.mean(dim='year')\n",
    "    slope, intercept, r_value, p_value, std_err = myf.linregress(np.arange((len(aice.year))),aice.load(),dim='year')\n",
    "    \n",
    "    clim = clim.to_dataset(name='aice_clim')\n",
    "    slope = slope.to_dataset(name='aice_trend')\n",
    "    slope.aice_trend.attrs['units'] = '%/yr'\n",
    "    p_value = p_value.to_dataset(name='aice_p_value')\n",
    "    p_value = 100.*p_value\n",
    "    p_value.aice_p_value.attrs['units'] = '%'\n",
    "    ds = xr.merge([clim, slope, p_value])\n",
    "   \n",
    "    ds['names'] = name\n",
    "    ds = ds.set_coords('names')\n",
    "    ds.attrs['desc'] = 'processed by Lettie Roach, March 2021'\n",
    "    ds.to_netcdf(mydir+'processed/spatial_mean_trend/'+name+'.ice_aice_climtrend.1979-2018.nc')\n",
    "\n",
    "    return ds\n"
   ]
  },
  {
   "cell_type": "code",
   "execution_count": null,
   "metadata": {},
   "outputs": [],
   "source": [
    "for e in range(1,36,1):\n",
    "    get_spatial_stuff_aice(wrangle_lens(e, ['aice']), 'aice')"
   ]
  },
  {
   "cell_type": "code",
   "execution_count": null,
   "metadata": {},
   "outputs": [],
   "source": [
    "for run in ['anom_nudge_era_60_archi','anom_nudge_era_60_arclo','anom_nudge_era_60']:\n",
    "    get_spatial_stuff_aice(wrangle_nudge(run, ['aice']), 'aice')"
   ]
  },
  {
   "cell_type": "markdown",
   "metadata": {},
   "source": [
    "Observations"
   ]
  },
  {
   "cell_type": "code",
   "execution_count": 14,
   "metadata": {},
   "outputs": [],
   "source": [
    "ds = xr.open_mfdataset('/glade/work/lettier/CDRv4/mon/nhdl/remap_cesmgrid/*.nc',concat_dim='tdim',combine='nested')\n",
    "mytime = ds.time.values\n",
    "ds = ds.drop('time')\n",
    "ds['tdim'] = mytime\n",
    "ds = ds.rename({'tdim':'time'})\n",
    "\n",
    "ds = ds.sel(time=slice('1979','2018'))\n",
    "ds['time'] = pd.date_range(start=\"1979-01-01\",end=\"2018-12-31\", freq='M')"
   ]
  },
  {
   "cell_type": "code",
   "execution_count": 25,
   "metadata": {},
   "outputs": [],
   "source": [
    "obvars = ['cdr_seaice_conc_monthly','nsidc_bt_seaice_conc_monthly','nsidc_nt_seaice_conc_monthly']\n",
    "mynames =['OBS-CDRv4-'+var for var in ['cdr','bt','nt']]"
   ]
  },
  {
   "cell_type": "code",
   "execution_count": 41,
   "metadata": {},
   "outputs": [],
   "source": [
    "for v, var in enumerate(obvars):\n",
    "    obds = ds[[var]]\n",
    "    obds[var] = obds[var].where(obds[var]<=1.) # keep only valid data\n",
    "    obds[var] = obds[var]*100.\n",
    "    obds['names'] = mynames[v]\n",
    "    obds = obds.set_coords('names')\n",
    "    obds = obds.rename({var:'aice'})\n",
    "    get_spatial_stuff_aice(obds)\n",
    "    "
   ]
  },
  {
   "cell_type": "code",
   "execution_count": 36,
   "metadata": {},
   "outputs": [
    {
     "data": {
      "text/plain": [
       "<matplotlib.collections.QuadMesh at 0x2af33e37ad30>"
      ]
     },
     "execution_count": 36,
     "metadata": {},
     "output_type": "execute_result"
    },
    {
     "data": {
      "image/png": "[encoded data removed]",
      "text/plain": [
       "<Figure size 432x288 with 2 Axes>"
      ]
     },
     "metadata": {
      "needs_background": "light"
     },
     "output_type": "display_data"
    }
   ],
   "source": [
    "obds.isel(time=0)[var].plot()"
   ]
  },
  {
   "cell_type": "code",
   "execution_count": null,
   "metadata": {},
   "outputs": [],
   "source": []
  }
 ],
 "metadata": {
  "kernelspec": {
   "display_name": "Python [conda env:anaconda3-myenv]",
   "language": "python",
   "name": "conda-env-anaconda3-myenv-py"
  },
  "language_info": {
   "codemirror_mode": {
    "name": "ipython",
    "version": 3
   },
   "file_extension": ".py",
   "mimetype": "text/x-python",
   "name": "python",
   "nbconvert_exporter": "python",
   "pygments_lexer": "ipython3",
   "version": "3.8.5"
  }
 },
 "nbformat": 4,
 "nbformat_minor": 4
}
