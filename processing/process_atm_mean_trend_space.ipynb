{
 "cells": [
  {
   "cell_type": "code",
   "execution_count": null,
   "metadata": {},
   "outputs": [],
   "source": [
    "import numpy as np\n",
    "import matplotlib\n",
    "import matplotlib.pyplot as plt\n",
    "import xarray as xr\n",
    "import os\n",
    "import pandas as pd\n",
    "import scipy.stats\n",
    "import sys\n",
    "sys.path.insert(1, '/glade/u/home/lettier/analysis/')\n",
    "import master_utils as myf\n",
    "xr.set_options(keep_attrs=True)"
   ]
  },
  {
   "cell_type": "code",
   "execution_count": null,
   "metadata": {},
   "outputs": [],
   "source": [
    "myvariables = ['U','V','TREFHT','PS']\n",
    "mytime = pd.date_range(start=\"1979-01-01\",end=\"2018-12-31\", freq='M')\n",
    "eddir = '/glade/scratch/wriggles/archive/'\n",
    "mydir = '/glade/work/lettier/NUDGE/'"
   ]
  },
  {
   "cell_type": "code",
   "execution_count": null,
   "metadata": {},
   "outputs": [],
   "source": [
    "def wrangle_nudge (nudge_name, myvariables):\n",
    "    ds_a = xr.open_mfdataset(eddir+nudge_name+'/atm/hist/*.h0.*')[myvariables].isel(lev=-1)\n",
    "    ds_b = xr.open_mfdataset(eddir+nudge_name+'_21C/atm/hist/*.h0.*')[myvariables].isel(lev=-1)\n",
    "    ds = xr.concat([ds_a,ds_b],dim='time').sel(time=slice('1979-02','2019-01'))\n",
    "    ds['time'] = mytime\n",
    "    ds['names'] = nudge_name\n",
    "    ds = ds.set_coords('names')\n",
    "    \n",
    "    return ds"
   ]
  },
  {
   "cell_type": "code",
   "execution_count": null,
   "metadata": {},
   "outputs": [],
   "source": [
    "def wrangle_proc_nudge(nudge_name, myvariables):\n",
    "\n",
    "    listds = []\n",
    "    for var in myvariables:\n",
    "        listds.append(xr.open_dataset('/glade/campaign/univ/uwas0104/sosi_nudge_era/'+nudge_name+'/atm/proc/tseries/month_1/'+nudge_name+'.cam.h0.'+var+'.197901-200512.nc').isel(lev=-1))\n",
    "    ds_a = xr.merge(listds)\n",
    "\n",
    "    listds = []\n",
    "    for var in myvariables:\n",
    "        listds.append(xr.open_dataset('/glade/campaign/univ/uwas0104/sosi_nudge_era/'+nudge_name+'_21C/atm/proc/tseries/month_1/'+nudge_name+'_21C.cam.h0.'+var+'.200601-201812.nc').isel(lev=-1))\n",
    "    ds_b = xr.merge(listds)\n",
    "\n",
    "    ds = xr.concat([ds_a,ds_b],dim='time')\n",
    "    ds['time'] = mytime\n",
    "    ds['names'] = nudge_name\n",
    "    ds = ds.set_coords('names')\n",
    "    ds = ds[myvariables]\n",
    "\n",
    "    return ds"
   ]
  },
  {
   "cell_type": "code",
   "execution_count": null,
   "metadata": {},
   "outputs": [],
   "source": [
    "def wrangle_lens (e, myvariables):\n",
    "    ledir = '/glade/collections/cdg/data/cesmLE/CESM-CAM5-BGC-LE/atm/proc/tseries/monthly/'\n",
    "\n",
    "    ens = str(e)\n",
    "    if e<10:\n",
    "        ens = '0'+str(e)\n",
    "    tmp = []\n",
    "    print(ens)\n",
    "    for var in myvariables:\n",
    "        myfiles = sorted([ledir+var+'/'+f for f in os.listdir(ledir+var) if ('B20TRC5CNBDRD' in f or 'BRCP85C5CNBDRD' in f) and '0'+ens+'.cam.h0.'+var in f ])\n",
    "        myfiles = [f for f in myfiles if '.192001-199912.nc' not in f and '208101-210012.nc' not in f]\n",
    "        ds = xr.open_mfdataset(myfiles)[[var]].sel(time=slice('1979-02','2019-01'))\n",
    "        if 'lev' in ds:\n",
    "            ds = ds.isel(lev=-1)\n",
    "        ds['time'] = mytime\n",
    "        tmp.append(ds)\n",
    "    ds = xr.merge(tmp)\n",
    "    ds['names'] = 'LENS'+ens\n",
    "    ds = ds.set_coords('names')\n",
    "\n",
    "    return ds"
   ]
  },
  {
   "cell_type": "code",
   "execution_count": null,
   "metadata": {},
   "outputs": [],
   "source": [
    "def get_spatial_stuff (ds):\n",
    "    name = str(ds.names.values)\n",
    "    print(name)\n",
    "    ds['windspeed'] = xr.ufuncs.sqrt(ds.U**2.+ds.V**2.)\n",
    "    ds.windspeed.attrs['units'] = ds.U.attrs['units']\n",
    " \n",
    "    clim = ds.groupby('time.month').mean(dim='time')\n",
    "    for var in ['U','V','TREFHT','PS','windspeed']:\n",
    "        clim = clim.rename({var:var+'_clim'})\n",
    "    \n",
    "    slist = []\n",
    "    for s, seas in enumerate(['JJA','DJF','SON','MAM']):\n",
    "        mydata = ds.where(ds['time.season'] == seas).groupby('time.year').mean(dim='time')\n",
    "        slope, intercept, r_value, p_value, std_err = myf.linregress(np.arange(len(mytime)/12),mydata.load(),dim='year')\n",
    "\n",
    "        for var in ['U','V','TREFHT','PS','windspeed']:\n",
    "            slope[var].attrs['units'] = clim[var+'_clim'].attrs['units']+'/yr'\n",
    "            p_value[var] = 100.*p_value[var]\n",
    "            p_value[var].attrs['units'] = '%'\n",
    "            slope = slope.rename({var:var+'_trend'})\n",
    "            p_value = p_value.rename({var:var+'_p_value'})\n",
    "\n",
    "            \n",
    "        sds = xr.merge([slope, p_value])\n",
    "        sds['season'] = seas\n",
    "        sds = sds.set_coords('season')\n",
    "        slist.append(sds)\n",
    "    sds = xr.concat(slist, dim='season')\n",
    "        \n",
    "        \n",
    "    ds = xr.merge([clim, sds])\n",
    "\n",
    "    ds.attrs['desc'] = 'processed by Lettie Roach, Aug 2021'\n",
    "    ds.to_netcdf(mydir+'processed/spatial_mean_trend/atm/'+name+'.atm_climtrend.1979-2018.nc')\n",
    "    \n",
    "    return ds    \n",
    "    "
   ]
  },
  {
   "cell_type": "markdown",
   "metadata": {},
   "source": [
    "All LENS members"
   ]
  },
  {
   "cell_type": "code",
   "execution_count": null,
   "metadata": {},
   "outputs": [],
   "source": [
    "for e in range(1,36,1):\n",
    "    get_spatial_stuff(wrangle_lens(e,myvariables))"
   ]
  },
  {
   "cell_type": "markdown",
   "metadata": {},
   "source": [
    "Nudge runs"
   ]
  },
  {
   "cell_type": "code",
   "execution_count": null,
   "metadata": {},
   "outputs": [],
   "source": [
    "for name in ['anom_nudge_era_60_arclo']:\n",
    "    ds = get_spatial_stuff (wrangle_nudge(name, myvariables))"
   ]
  },
  {
   "cell_type": "markdown",
   "metadata": {},
   "source": [
    "ERA Interim"
   ]
  },
  {
   "cell_type": "code",
   "execution_count": null,
   "metadata": {},
   "outputs": [],
   "source": [
    "obds = xr.open_dataset('/glade/work/lettier/ERAI/mon/remap_cesmgrid/ei.moda.an.sfc.regn128sc.1979-2018_ptuv_remapcesmagrid.nc')[['t2m','sp']]\n",
    "obds['time'] = mytime\n",
    "obds = obds.rename({'t2m':'TREFHT','sp':'PS'})\n",
    "\n",
    "listds = []\n",
    "for y in np.arange(1979,2019,1):\n",
    "    for m in range(1,13,1):\n",
    "        y, m = str(y), str(m)\n",
    "        if len(m)==1:\n",
    "            m = '0'+m\n",
    "        tmpds = xr.open_dataset('/glade/scratch/lettier/ERA-I-forcing/yrmonmean/ERA-I.6hour.sfc.uv.'+y+'-'+m+'.nc')\n",
    "        tmpds['time'] = pd.to_datetime(y+'-'+m+'-01')\n",
    "        tmpds = tmpds.set_coords('time')\n",
    "        listds.append(tmpds)\n",
    "uvds = xr.concat(listds, dim='time')\n",
    "uvds['time'] = mytime\n",
    "uvds.U.attrs['units'] = 'm/s'\n",
    "uvds.V.attrs['units'] = 'm/s'\n",
    "uvds['windspeed'] = xr.ufuncs.sqrt(uvds.U**2.+uvds.V**2.)\n",
    "uvds.windspeed.attrs['units'] = 'm/s'\n",
    "uvds['lat'] = obds.lat\n",
    "uvds['lon'] = obds.lon\n",
    "obds = xr.merge([obds,uvds])\n",
    "\n",
    "obds['names'] = 'ERAI'\n",
    "obds = obds.set_coords('names')\n",
    "ds = get_spatial_stuff(obds)"
   ]
  }
 ],
 "metadata": {
  "kernelspec": {
   "display_name": "Python [conda env:anaconda3-myenv]",
   "language": "python",
   "name": "conda-env-anaconda3-myenv-py"
  },
  "language_info": {
   "codemirror_mode": {
    "name": "ipython",
    "version": 3
   },
   "file_extension": ".py",
   "mimetype": "text/x-python",
   "name": "python",
   "nbconvert_exporter": "python",
   "pygments_lexer": "ipython3",
   "version": "3.8.5"
  }
 },
 "nbformat": 4,
 "nbformat_minor": 4
}
