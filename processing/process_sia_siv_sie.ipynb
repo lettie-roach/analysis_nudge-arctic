{
 "cells": [
  {
   "cell_type": "code",
   "execution_count": 1,
   "metadata": {},
   "outputs": [],
   "source": [
    "import numpy as np\n",
    "import matplotlib\n",
    "import matplotlib.pyplot as plt\n",
    "import xarray as xr\n",
    "import os\n",
    "import pandas as pd\n",
    "import scipy.stats\n",
    "import sys\n",
    "sys.path.insert(1, '/glade/u/home/lettier/analysis/')\n",
    "import master_utils as myf\n",
    "from scipy.io import loadmat"
   ]
  },
  {
   "cell_type": "code",
   "execution_count": 17,
   "metadata": {},
   "outputs": [
    {
     "name": "stdout",
     "output_type": "stream",
     "text": [
      "['__header__', '__version__', '__globals__', 'x', 'y', 'ifXY', 'w', 'ifXY_reg', 'reg_list']\n",
      "['Central Arctic', 'GIN Seas', 'Barents Sea', 'Kara Sea', 'Laptev Sea', 'East Siberian Sea', 'Chukchi Sea', 'Bering Sea', 'Sea of Okhotsk', 'Beaufort Sea', 'Canadian Archipelago', 'Hudson Bay', 'Baffin Bay', 'Labrador Sea', 'Open Ocean', 'Pan Arctic', 'Barents GIN', 'Kara Laptev East Siberian', 'Chukchi Bering Okhotsk', 'CAA HB BB Lab']\n"
     ]
    }
   ],
   "source": [
    "eddir = '/glade/scratch/wriggles/archive/'\n",
    "exampleds = xr.open_dataset('/glade/work/lettier/GRIDS/cesm1_tarea.nc')\n",
    "x = loadmat('/glade/work/lettier/fromMITCH/seaice/ice_grid_regions.mat')\n",
    "exampleds = exampleds.rename({'nlon':'ni','nlat':'nj'})\n",
    "exampleds['TAREA'] = exampleds['TAREA']/1e4 # convert to m^2 from cm^2\n",
    "print([f for f in x])\n",
    "region_mask = x['ifXY_reg']\n",
    "region_list =   [f[0] for f in x['reg_list'][0]]\n",
    "print(region_list)\n",
    "model_regions  = xr.DataArray(region_mask, dims=('ni','nj','region'), \n",
    "                              coords = {'ni' : exampleds.ni.values, 'nj' : exampleds.nj.values , 'region' : region_list[:16]} )"
   ]
  },
  {
   "cell_type": "code",
   "execution_count": 3,
   "metadata": {},
   "outputs": [],
   "source": [
    "def calc_reg_sia_nh (ds, ints, model_regions, tarea):\n",
    "    sia = (tarea*model_regions*ds.aice/100./1e12).sum(dim=('ni','nj')).to_dataset(name='sia_nh_reg')\n",
    "    sie = (tarea*model_regions*ints/1e12).sum(dim=('ni','nj')).to_dataset(name='sie_nh_reg')\n",
    "    if 'hi' in ds:\n",
    "        siv = (tarea*model_regions*ds.aice/100.*ds.hi/1e12).sum(dim=('ni','nj')).to_dataset(name='siv_nh_reg')\n",
    "        outds = xr.merge([sia,sie,siv])\n",
    "    else:\n",
    "        outds = xr.merge([sia,sie])\n",
    "    return outds"
   ]
  },
  {
   "cell_type": "code",
   "execution_count": 4,
   "metadata": {},
   "outputs": [],
   "source": [
    "mydir = '/glade/work/lettier/NUDGE/'"
   ]
  },
  {
   "cell_type": "code",
   "execution_count": 5,
   "metadata": {},
   "outputs": [],
   "source": [
    "def calc_siasivsie (ds, name, hemi='nhsh'):\n",
    "    \n",
    "    mytime = pd.date_range(start=\"1979-01-01\",end=\"2018-12-31\", freq='M')\n",
    "    ds['time'] = mytime[:len(ds.time)]\n",
    "\n",
    "    ints = ds.aice.copy()\n",
    "    ints = ints.where(ints>15.)\n",
    "    ints = ints.where(ints!=ints,1.)\n",
    "\n",
    "    varlist = []\n",
    "    if 'nh' in hemi:\n",
    "        sia_nh = ((ds.aice/100.*ds.tarea).where(ds.TLAT>0.).sum(dim=('ni','nj'))/1e12).to_dataset(name='sia_nh')\n",
    "        sie_nh = ((ints*ds.tarea).where(ds.TLAT>0.).sum(dim=('ni','nj'))/1e12).to_dataset(name='sie_nh')\n",
    "        rds = calc_reg_sia_nh(ds, ints, model_regions, ds.tarea )\n",
    "        varlist.append(sia_nh)\n",
    "        varlist.append(sie_nh)\n",
    "        varlist.append(rds)\n",
    "        \n",
    "        if 'hi' in ds:\n",
    "            siv_nh = ((ds.aice/100.*ds.hi*ds.tarea).where(ds.TLAT>0.).sum(dim=('ni','nj'))/1e12).to_dataset(name='siv_nh')\n",
    "            varlist.append(siv_nh)  \n",
    " \n",
    "    if 'sh' in hemi:\n",
    "        sia_sh = ((ds.aice/100.*ds.tarea).where(ds.TLAT<0.).sum(dim=('ni','nj'))/1e12).to_dataset(name='sia_sh')\n",
    "        sie_sh = ((ints*ds.tarea).where(ds.TLAT<0.).sum(dim=('ni','nj'))/1e12).to_dataset(name='sie_sh')\n",
    "        varlist.append(sia_sh)\n",
    "        varlist.append(sie_sh)\n",
    "        \n",
    "        if 'hi' in ds:\n",
    "            siv_sh = ((ds.aice/100.*ds.hi*ds.tarea).where(ds.TLAT<0.).sum(dim=('ni','nj'))/1e12).to_dataset(name='siv_sh')\n",
    "            varlist.append(siv_sh)\n",
    "\n",
    "    ds = xr.merge(varlist)\n",
    "    ds['names'] = name\n",
    "    ds = ds.set_coords('names')\n",
    "    \n",
    "    for var in ds:\n",
    "        if 'sie' in var or 'sia' in var:\n",
    "            ds[var].attrs['units'] = 'million km^2'\n",
    "        elif 'siv' in var:\n",
    "            ds[var].attrs['units'] = '10^3 km^3'\n",
    "\n",
    "    ds.attrs['desc'] = 'processed by Lettie Roach, Nov 2021'\n",
    "    ds.to_netcdf(mydir+'processed/siasivsie/'+name+'.siasivsie_'+hemi+'.1979-2018.nc')\n",
    "    \n",
    "    return ds"
   ]
  },
  {
   "cell_type": "code",
   "execution_count": 6,
   "metadata": {},
   "outputs": [],
   "source": [
    "def wrangle_nudge (nudge_name, myvariables):\n",
    "    ds_a = xr.open_mfdataset(eddir+nudge_name+'/ice/hist/*.h.*')[myvariables]\n",
    "    ds_b = xr.open_mfdataset(eddir+nudge_name+'_21C/ice/hist/*.h.*')[myvariables]\n",
    "    ds = xr.concat([ds_a,ds_b],dim='time')\n",
    " \n",
    "    ds['names'] = nudge_name\n",
    "    ds = ds.set_coords('names')\n",
    "    \n",
    "    return ds"
   ]
  },
  {
   "cell_type": "code",
   "execution_count": 7,
   "metadata": {},
   "outputs": [
    {
     "ename": "OSError",
     "evalue": "no files to open",
     "output_type": "error",
     "traceback": [
      "\u001b[0;31m---------------------------------------------------------------------------\u001b[0m",
      "\u001b[0;31mOSError\u001b[0m                                   Traceback (most recent call last)",
      "\u001b[0;32m<ipython-input-7-f7a23a318025>\u001b[0m in \u001b[0;36m<module>\u001b[0;34m\u001b[0m\n\u001b[1;32m      1\u001b[0m \u001b[0;32mfor\u001b[0m \u001b[0mname\u001b[0m \u001b[0;32min\u001b[0m \u001b[0;34m[\u001b[0m\u001b[0;34m'anom_nudge_era_60_arclo'\u001b[0m\u001b[0;34m,\u001b[0m\u001b[0;34m'anom_nudge_era_60_archi'\u001b[0m\u001b[0;34m,\u001b[0m\u001b[0;34m'anom_nudge_era_60'\u001b[0m\u001b[0;34m]\u001b[0m\u001b[0;34m:\u001b[0m\u001b[0;34m\u001b[0m\u001b[0;34m\u001b[0m\u001b[0m\n\u001b[0;32m----> 2\u001b[0;31m     \u001b[0mds\u001b[0m \u001b[0;34m=\u001b[0m \u001b[0mcalc_siasivsie\u001b[0m \u001b[0;34m(\u001b[0m\u001b[0mwrangle_nudge\u001b[0m\u001b[0;34m(\u001b[0m\u001b[0mname\u001b[0m\u001b[0;34m,\u001b[0m \u001b[0;34m[\u001b[0m\u001b[0;34m'aice'\u001b[0m\u001b[0;34m,\u001b[0m\u001b[0;34m'hi'\u001b[0m\u001b[0;34m,\u001b[0m\u001b[0;34m'tarea'\u001b[0m\u001b[0;34m]\u001b[0m\u001b[0;34m)\u001b[0m\u001b[0;34m,\u001b[0m \u001b[0mname\u001b[0m\u001b[0;34m)\u001b[0m\u001b[0;34m\u001b[0m\u001b[0;34m\u001b[0m\u001b[0m\n\u001b[0m",
      "\u001b[0;32m<ipython-input-6-e7780781121e>\u001b[0m in \u001b[0;36mwrangle_nudge\u001b[0;34m(nudge_name, myvariables)\u001b[0m\n\u001b[1;32m      1\u001b[0m \u001b[0;32mdef\u001b[0m \u001b[0mwrangle_nudge\u001b[0m \u001b[0;34m(\u001b[0m\u001b[0mnudge_name\u001b[0m\u001b[0;34m,\u001b[0m \u001b[0mmyvariables\u001b[0m\u001b[0;34m)\u001b[0m\u001b[0;34m:\u001b[0m\u001b[0;34m\u001b[0m\u001b[0;34m\u001b[0m\u001b[0m\n\u001b[0;32m----> 2\u001b[0;31m     \u001b[0mds_a\u001b[0m \u001b[0;34m=\u001b[0m \u001b[0mxr\u001b[0m\u001b[0;34m.\u001b[0m\u001b[0mopen_mfdataset\u001b[0m\u001b[0;34m(\u001b[0m\u001b[0meddir\u001b[0m\u001b[0;34m+\u001b[0m\u001b[0mnudge_name\u001b[0m\u001b[0;34m+\u001b[0m\u001b[0;34m'/ice/hist/*.h.*'\u001b[0m\u001b[0;34m)\u001b[0m\u001b[0;34m[\u001b[0m\u001b[0mmyvariables\u001b[0m\u001b[0;34m]\u001b[0m\u001b[0;34m\u001b[0m\u001b[0;34m\u001b[0m\u001b[0m\n\u001b[0m\u001b[1;32m      3\u001b[0m     \u001b[0mds_b\u001b[0m \u001b[0;34m=\u001b[0m \u001b[0mxr\u001b[0m\u001b[0;34m.\u001b[0m\u001b[0mopen_mfdataset\u001b[0m\u001b[0;34m(\u001b[0m\u001b[0meddir\u001b[0m\u001b[0;34m+\u001b[0m\u001b[0mnudge_name\u001b[0m\u001b[0;34m+\u001b[0m\u001b[0;34m'_21C/ice/hist/*.h.*'\u001b[0m\u001b[0;34m)\u001b[0m\u001b[0;34m[\u001b[0m\u001b[0mmyvariables\u001b[0m\u001b[0;34m]\u001b[0m\u001b[0;34m\u001b[0m\u001b[0;34m\u001b[0m\u001b[0m\n\u001b[1;32m      4\u001b[0m     \u001b[0mds\u001b[0m \u001b[0;34m=\u001b[0m \u001b[0mxr\u001b[0m\u001b[0;34m.\u001b[0m\u001b[0mconcat\u001b[0m\u001b[0;34m(\u001b[0m\u001b[0;34m[\u001b[0m\u001b[0mds_a\u001b[0m\u001b[0;34m,\u001b[0m\u001b[0mds_b\u001b[0m\u001b[0;34m]\u001b[0m\u001b[0;34m,\u001b[0m\u001b[0mdim\u001b[0m\u001b[0;34m=\u001b[0m\u001b[0;34m'time'\u001b[0m\u001b[0;34m)\u001b[0m\u001b[0;34m\u001b[0m\u001b[0;34m\u001b[0m\u001b[0m\n\u001b[1;32m      5\u001b[0m \u001b[0;34m\u001b[0m\u001b[0m\n",
      "\u001b[0;32m~/anaconda3/envs/myenv/lib/python3.8/site-packages/xarray/backends/api.py\u001b[0m in \u001b[0;36mopen_mfdataset\u001b[0;34m(paths, chunks, concat_dim, compat, preprocess, engine, data_vars, coords, combine, parallel, join, attrs_file, combine_attrs, **kwargs)\u001b[0m\n\u001b[1;32m    871\u001b[0m \u001b[0;34m\u001b[0m\u001b[0m\n\u001b[1;32m    872\u001b[0m     \u001b[0;32mif\u001b[0m \u001b[0;32mnot\u001b[0m \u001b[0mpaths\u001b[0m\u001b[0;34m:\u001b[0m\u001b[0;34m\u001b[0m\u001b[0;34m\u001b[0m\u001b[0m\n\u001b[0;32m--> 873\u001b[0;31m         \u001b[0;32mraise\u001b[0m \u001b[0mOSError\u001b[0m\u001b[0;34m(\u001b[0m\u001b[0;34m\"no files to open\"\u001b[0m\u001b[0;34m)\u001b[0m\u001b[0;34m\u001b[0m\u001b[0;34m\u001b[0m\u001b[0m\n\u001b[0m\u001b[1;32m    874\u001b[0m \u001b[0;34m\u001b[0m\u001b[0m\n\u001b[1;32m    875\u001b[0m     \u001b[0;32mif\u001b[0m \u001b[0mcombine\u001b[0m \u001b[0;34m==\u001b[0m \u001b[0;34m\"nested\"\u001b[0m\u001b[0;34m:\u001b[0m\u001b[0;34m\u001b[0m\u001b[0;34m\u001b[0m\u001b[0m\n",
      "\u001b[0;31mOSError\u001b[0m: no files to open"
     ]
    }
   ],
   "source": [
    "for name in ['anom_nudge_era_60_arclo','anom_nudge_era_60_archi','anom_nudge_era_60']:\n",
    "    ds = calc_siasivsie (wrangle_nudge(name, ['aice','hi','tarea']), name)"
   ]
  },
  {
   "cell_type": "code",
   "execution_count": null,
   "metadata": {},
   "outputs": [],
   "source": []
  },
  {
   "cell_type": "code",
   "execution_count": 10,
   "metadata": {},
   "outputs": [],
   "source": [
    "model_regions = model_regions.isel(nj=slice(-104,None))\n",
    "ledir = '/glade/collections/cdg/data/cesmLE/CESM-CAM5-BGC-LE/ice/proc/tseries/monthly/'\n",
    "listds = []\n",
    "for e in range(1,2,1):\n",
    "    ens = str(e)\n",
    "    if e<10:\n",
    "        ens = '0'+str(e)\n",
    "    tmp = []\n",
    "    for var in ['aice','hi']:\n",
    "        myfiles = sorted([ledir+var+'/'+f for f in os.listdir(ledir+var) if ('B20TRC5CNBDRD' in f or 'BRCP85C5CNBDRD' in f) and '0'+ens+'.cice.h.'+var+'_nh' in f ])\n",
    "        myfiles = [f for f in myfiles if '.192001-199912.nc' not in f and '208101-210012.nc' not in f]\n",
    "        ds = xr.open_mfdataset(myfiles).sel(time=slice('1979-02','2019-01'))\n",
    "        tmp.append(ds)\n",
    "    ds = xr.merge(tmp)\n",
    "\n",
    "    ds = calc_siasivsie (ds, 'LENS-'+ens, hemi = 'nh')\n",
    "    nhds = ds.copy()\n",
    "    \n",
    "    tmp = []\n",
    "    for var in ['aice','hi']:\n",
    "        myfiles = sorted([ledir+var+'/'+f for f in os.listdir(ledir+var) if ('B20TRC5CNBDRD' in f or 'BRCP85C5CNBDRD' in f) and '0'+ens+'.cice.h.'+var+'_sh' in f ])\n",
    "        myfiles = [f for f in myfiles if '.192001-199912.nc' not in f and '208101-210012.nc' not in f]\n",
    "        ds = xr.open_mfdataset(myfiles).sel(time=slice('1979-02','2019-01'))\n",
    "        tmp.append(ds)\n",
    "    ds = xr.merge(tmp)\n",
    "    ds = calc_siasivsie (ds, 'LENS-'+ens, hemi = 'sh')"
   ]
  },
  {
   "cell_type": "code",
   "execution_count": 15,
   "metadata": {},
   "outputs": [
    {
     "data": {
      "text/plain": [
       "[<matplotlib.lines.Line2D at 0x2b8b8e3426a0>]"
      ]
     },
     "execution_count": 15,
     "metadata": {},
     "output_type": "execute_result"
    },
    {
     "data": {
      "image/png": "[encoded data removed]",
      "text/plain": [
       "<Figure size 432x288 with 1 Axes>"
      ]
     },
     "metadata": {
      "needs_background": "light"
     },
     "output_type": "display_data"
    }
   ],
   "source": [
    "nhds.sie_nh_reg.isel(region=5).plot()"
   ]
  },
  {
   "cell_type": "markdown",
   "metadata": {},
   "source": [
    "# CDRv4"
   ]
  },
  {
   "cell_type": "code",
   "execution_count": 18,
   "metadata": {},
   "outputs": [],
   "source": [
    "# on original grid\n",
    "ds = xr.open_dataset('/glade/work/lettier/CDRv4/mon/processed/sia_cdr_monthly_nhsh_197811-202105_v04r00.nc')\n",
    "ds = ds.sel(time=slice('1979','2018'))\n",
    "\n",
    "for var in ['cdr','nt','bt']:\n",
    "    obds = ds[[f for f in ds if var in f and 'nh' in f]]\n",
    "    obds['names'] = 'OBS-CDRv4-'+var\n",
    "    obds = obds.set_coords('names')\n",
    "    obds = obds.rename({'sie_nh_'+var:'sie_nh','sia_nh_'+var:'sia_nh'})\n",
    "    obds.to_netcdf('/glade/work/lettier/archived_data/202203_data_paper_nudge_arctic_winds/sia_sie_siv_timeseries/cdrv4_orig_grid/OBS-CDRv4-'+var+'.siasivsie_nh.1979-2018.nc')"
   ]
  },
  {
   "cell_type": "markdown",
   "metadata": {},
   "source": [
    "Compute regional SIE on CESM grid"
   ]
  },
  {
   "cell_type": "code",
   "execution_count": 19,
   "metadata": {},
   "outputs": [],
   "source": [
    "ds = xr.open_mfdataset('/glade/work/lettier/CDRv4/mon/nhdl/remap_cesmgrid/*.nc',concat_dim='tdim',combine='nested')\n",
    "mytime = ds.time.values\n",
    "ds = ds.drop('time')\n",
    "ds['tdim'] = mytime\n",
    "ds = ds.rename({'tdim':'time'})\n",
    "\n",
    "ds = ds.sel(time=slice('1979','2018'))\n",
    "ds['time'] = pd.date_range(start=\"1979-01-01\",end=\"2018-12-31\", freq='M')"
   ]
  },
  {
   "cell_type": "code",
   "execution_count": 20,
   "metadata": {},
   "outputs": [],
   "source": [
    "obvars = ['cdr_seaice_conc_monthly','nsidc_bt_seaice_conc_monthly','nsidc_nt_seaice_conc_monthly']\n",
    "mynames =['OBS-CDRv4-'+var for var in ['cdr','bt','nt']]"
   ]
  },
  {
   "cell_type": "code",
   "execution_count": 21,
   "metadata": {},
   "outputs": [],
   "source": [
    "for v, var in enumerate(obvars):\n",
    "    obds = ds[[var]]\n",
    "    obds[var] = obds[var].where(obds[var]<=1.) # keep only valid data\n",
    "    obds[var] = obds[var]*100.\n",
    "    obds['names'] = mynames[v]+'_remapcesmgrid'\n",
    "    obds = obds.set_coords('names')\n",
    "    obds = obds.rename({var:'aice'})\n",
    "    obds = obds.rename({'nlon':'ni','nlat':'nj'})\n",
    "    obds['tarea'] = exampleds.TAREA#xr.DataArray(exampleds.TAREA.values, dims= ['nlat','nlon'])\n",
    "    calc_siasivsie(obds,name=mynames[v]+'_remapcesmgrid', hemi='nh')\n",
    "    "
   ]
  }
 ],
 "metadata": {
  "kernelspec": {
   "display_name": "Python [conda env:anaconda3-myenv]",
   "language": "python",
   "name": "conda-env-anaconda3-myenv-py"
  },
  "language_info": {
   "codemirror_mode": {
    "name": "ipython",
    "version": 3
   },
   "file_extension": ".py",
   "mimetype": "text/x-python",
   "name": "python",
   "nbconvert_exporter": "python",
   "pygments_lexer": "ipython3",
   "version": "3.8.5"
  }
 },
 "nbformat": 4,
 "nbformat_minor": 4
}
