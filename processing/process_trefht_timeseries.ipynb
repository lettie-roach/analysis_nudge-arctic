{
 "cells": [
  {
   "cell_type": "code",
   "execution_count": null,
   "metadata": {},
   "outputs": [],
   "source": [
    "import numpy as np\n",
    "import matplotlib\n",
    "import matplotlib.pyplot as plt\n",
    "import xarray as xr\n",
    "import os\n",
    "import pandas as pd\n",
    "import scipy.stats\n",
    "import sys\n",
    "sys.path.insert(1, '/glade/u/home/lettier/analysis/')\n",
    "import master_utils as myf\n",
    "xr.set_options(keep_attrs=True)"
   ]
  },
  {
   "cell_type": "code",
   "execution_count": null,
   "metadata": {},
   "outputs": [],
   "source": [
    "myvariables = ['TREFHT']\n",
    "mytime = pd.date_range(start=\"1979-01-01\",end=\"2018-12-31\", freq='M')\n",
    "eddir = '/glade/scratch/wriggles/archive/'\n",
    "mydir = '/glade/work/lettier/NUDGE/'"
   ]
  },
  {
   "cell_type": "code",
   "execution_count": null,
   "metadata": {},
   "outputs": [],
   "source": [
    "def wrangle_nudge (nudge_name, myvariables):\n",
    "    ds_a = xr.open_mfdataset(eddir+nudge_name+'/atm/hist/*.h0.*')[myvariables]\n",
    "    ds_b = xr.open_mfdataset(eddir+nudge_name+'_21C/atm/hist/*.h0.*')[myvariables]\n",
    "    ds = xr.concat([ds_a,ds_b],dim='time')\n",
    "    ds['time'] = mytime\n",
    "    ds['names'] = nudge_name\n",
    "    ds = ds.set_coords('names')\n",
    "    \n",
    "    return ds"
   ]
  },
  {
   "cell_type": "code",
   "execution_count": null,
   "metadata": {},
   "outputs": [],
   "source": [
    "def wrangle_proc_nudge(nudge_name, myvariables, campdir):\n",
    "\n",
    "    listds = []\n",
    "    for var in myvariables:\n",
    "        listds.append(xr.open_dataset('/glade/campaign/univ/'+campdir+'/sosi_nudge_era/'+nudge_name+'/atm/proc/tseries/month_1/'+nudge_name+'.cam.h0.'+var+'.197901-200512.nc').isel(lev=-1))\n",
    "    ds_a = xr.merge(listds)\n",
    "\n",
    "    listds = []\n",
    "    for var in myvariables:\n",
    "        listds.append(xr.open_dataset('/glade/campaign/univ/'+campdir+'/sosi_nudge_era/'+nudge_name+'_21C/atm/proc/tseries/month_1/'+nudge_name+'_21C.cam.h0.'+var+'.200601-201812.nc').isel(lev=-1))\n",
    "    ds_b = xr.merge(listds)\n",
    "\n",
    "    ds = xr.concat([ds_a,ds_b],dim='time')\n",
    "    ds['time'] = mytime\n",
    "    ds['names'] = nudge_name\n",
    "    ds = ds.set_coords('names')\n",
    "    ds = ds[myvariables]\n",
    "\n",
    "    return ds"
   ]
  },
  {
   "cell_type": "code",
   "execution_count": null,
   "metadata": {},
   "outputs": [],
   "source": [
    "def wrangle_lens (e, myvariables):\n",
    "    ledir = '/glade/collections/cdg/data/cesmLE/CESM-CAM5-BGC-LE/atm/proc/tseries/monthly/'\n",
    "\n",
    "    ens = str(e)\n",
    "    if e<10:\n",
    "        ens = '0'+str(e)\n",
    "    tmp = []\n",
    "    print(ens)\n",
    "    for var in myvariables:\n",
    "        myfiles = sorted([ledir+var+'/'+f for f in os.listdir(ledir+var) if ('B20TRC5CNBDRD' in f or 'BRCP85C5CNBDRD' in f) and '0'+ens+'.cam.h0.'+var in f ])\n",
    "        myfiles = [f for f in myfiles if '.192001-199912.nc' not in f and '208101-210012.nc' not in f]\n",
    "        ds = xr.open_mfdataset(myfiles)[[var]].sel(time=slice('1979-02','2019-01'))\n",
    "        ds['time'] = mytime\n",
    "        tmp.append(ds)\n",
    "    ds = xr.merge(tmp)\n",
    "    ds['names'] = 'LENS'+ens\n",
    "    ds = ds.set_coords('names')\n",
    "\n",
    "    return ds"
   ]
  },
  {
   "cell_type": "code",
   "execution_count": null,
   "metadata": {},
   "outputs": [],
   "source": [
    "def get_timeseries (ds):\n",
    "    \n",
    "    garea, _, _ = myf.grid_area_regll(ds.lat,ds.lon)\n",
    "    tarea = xr.DataArray(garea, dims=['lat','lon'], coords = {'lat':ds.lat,'lon':ds.lon})\n",
    "    mymasks = [tarea, tarea.where(tarea.lat>45.), tarea.where(tarea.lat>60.), tarea.where(tarea.lat>70.),\n",
    "               tarea.where(tarea.lat<-45), tarea.where(tarea.lat<-60)]\n",
    "    labels = ['Global','45-90N','60-90N','70-90N',\n",
    "              '45-90S','60-90S']\n",
    "    \n",
    "    listds = []\n",
    "    for m, mask in enumerate(mymasks):\n",
    "        dsr = (ds*mask).sum(dim=('lat','lon'))/mask.sum(dim=('lat','lon'))\n",
    "        dsr['region'] = labels[m]\n",
    "        dsr = dsr.set_coords('region')\n",
    "        listds.append(dsr)\n",
    "    ds = xr.concat(listds,dim='region')\n",
    "    name = str(ds.names.values)\n",
    "  \n",
    "    ds.attrs['desc'] = 'processed by Lettie Roach, Jan 2022'\n",
    "    ds.to_netcdf(mydir+'processed/timeseries/'+str(name)+'.trefht_timeseries.1979-2018.nc')\n",
    "    \n",
    "    return ds    \n",
    "    "
   ]
  },
  {
   "cell_type": "markdown",
   "metadata": {},
   "source": [
    "Nudge runs"
   ]
  },
  {
   "cell_type": "code",
   "execution_count": null,
   "metadata": {},
   "outputs": [],
   "source": [
    "for name in ['anom_nudge_era_60_arclo','anom_nudge_era_60_archi','anom_nudge_era_60']:\n",
    "    ds = get_timeseries(wrangle_proc_nudge(name, myvariables, 'uwas0104'))"
   ]
  },
  {
   "cell_type": "markdown",
   "metadata": {},
   "source": [
    "CESM1 ensemble"
   ]
  },
  {
   "cell_type": "code",
   "execution_count": null,
   "metadata": {},
   "outputs": [],
   "source": [
    "for e in range(1,36,1):\n",
    "    get_timeseries(wrangle_lens(e, myvariables))"
   ]
  },
  {
   "cell_type": "markdown",
   "metadata": {},
   "source": [
    "Also process ERA Interim, HadCRUT and GISTEMP"
   ]
  },
  {
   "cell_type": "code",
   "execution_count": null,
   "metadata": {},
   "outputs": [],
   "source": [
    "obds = xr.open_dataset('/glade/work/lettier/ERAI/mon/remap_cesmgrid/ei.moda.an.sfc.regn128sc.1979-2018_ptuv_remapcesmagrid.nc')\n",
    "obds['time'] = mytime\n",
    "obds = obds.rename({'t2m':'TREFHT'})[['TREFHT']]\n",
    "obds['names'] = 'ERAI'\n",
    "obds = obds.set_coords('names')\n",
    "get_timeseries(obds)\n"
   ]
  },
  {
   "cell_type": "code",
   "execution_count": null,
   "metadata": {},
   "outputs": [],
   "source": [
    "ds = xr.open_dataset('/glade/work/lettier/HadCRUT.5.0.1.0.analysis.anomalies.ensemble_mean.nc').sel(time=slice('1979','2018'))[['tas_mean']]\n",
    "ds = ds.rename({'tas_mean':'TREFHT'})\n",
    "ds['time'] = mytime\n",
    "ds = ds.rename({'latitude':'lat','longitude':'lon'})\n",
    "ds['names'] = 'HadCRUT5'\n",
    "ds = ds.set_coords('names')\n",
    "ds = get_timeseries(ds)"
   ]
  },
  {
   "cell_type": "code",
   "execution_count": null,
   "metadata": {},
   "outputs": [],
   "source": [
    "ds = xr.open_dataset('/glade/work/lettier/gistemp1200_GHCNv4_ERSSTv5.nc').sel(time=slice('1979','2018'))[['tempanomaly']]\n",
    "ds = ds.rename({'tempanomaly':'TREFHT'})\n",
    "ds['time'] = mytime\n",
    "ds['names'] = 'GISTEMPv4'\n",
    "ds = ds.set_coords('names')\n",
    "ds = get_timeseries(ds)"
   ]
  },
  {
   "cell_type": "code",
   "execution_count": null,
   "metadata": {},
   "outputs": [],
   "source": []
  }
 ],
 "metadata": {
  "kernelspec": {
   "display_name": "Python [conda env:anaconda3-myenv]",
   "language": "python",
   "name": "conda-env-anaconda3-myenv-py"
  },
  "language_info": {
   "codemirror_mode": {
    "name": "ipython",
    "version": 3
   },
   "file_extension": ".py",
   "mimetype": "text/x-python",
   "name": "python",
   "nbconvert_exporter": "python",
   "pygments_lexer": "ipython3",
   "version": "3.8.5"
  }
 },
 "nbformat": 4,
 "nbformat_minor": 4
}
